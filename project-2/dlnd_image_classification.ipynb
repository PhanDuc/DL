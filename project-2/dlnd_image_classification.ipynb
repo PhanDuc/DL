{
 "cells": [
  {
   "cell_type": "markdown",
   "metadata": {
    "collapsed": true
   },
   "source": [
    "# Image Classification\n",
    "In this project, you'll classify images from the [CIFAR-10 dataset](https://www.cs.toronto.edu/~kriz/cifar.html).  The dataset consists of airplanes, dogs, cats, and other objects. You'll preprocess the images, then train a convolutional neural network on all the samples. The images need to be normalized and the labels need to be one-hot encoded.  You'll get to apply what you learned and build a convolutional, max pooling, dropout, and fully connected layers.  At the end, you'll get to see your neural network's predictions on the sample images.\n",
    "## Get the Data\n",
    "Run the following cell to download the [CIFAR-10 dataset for python](https://www.cs.toronto.edu/~kriz/cifar-10-python.tar.gz)."
   ]
  },
  {
   "cell_type": "code",
   "execution_count": 16,
   "metadata": {
    "collapsed": false
   },
   "outputs": [
    {
     "name": "stdout",
     "output_type": "stream",
     "text": [
      "All files found!\n"
     ]
    }
   ],
   "source": [
    "\"\"\"\n",
    "DON'T MODIFY ANYTHING IN THIS CELL THAT IS BELOW THIS LINE\n",
    "\"\"\"\n",
    "from urllib.request import urlretrieve\n",
    "from os.path import isfile, isdir\n",
    "from tqdm import tqdm\n",
    "import problem_unittests as tests\n",
    "import tarfile\n",
    "\n",
    "cifar10_dataset_folder_path = 'cifar-10-batches-py'\n",
    "\n",
    "class DLProgress(tqdm):\n",
    "    last_block = 0\n",
    "\n",
    "    def hook(self, block_num=1, block_size=1, total_size=None):\n",
    "        self.total = total_size\n",
    "        self.update((block_num - self.last_block) * block_size)\n",
    "        self.last_block = block_num\n",
    "\n",
    "if not isfile('cifar-10-python.tar.gz'):\n",
    "    with DLProgress(unit='B', unit_scale=True, miniters=1, desc='CIFAR-10 Dataset') as pbar:\n",
    "        urlretrieve(\n",
    "            'https://www.cs.toronto.edu/~kriz/cifar-10-python.tar.gz',\n",
    "            'cifar-10-python.tar.gz',\n",
    "            pbar.hook)\n",
    "\n",
    "if not isdir(cifar10_dataset_folder_path):\n",
    "    with tarfile.open('cifar-10-python.tar.gz') as tar:\n",
    "        tar.extractall()\n",
    "        tar.close()\n",
    "\n",
    "\n",
    "tests.test_folder_path(cifar10_dataset_folder_path)"
   ]
  },
  {
   "cell_type": "markdown",
   "metadata": {},
   "source": [
    "## Explore the Data\n",
    "The dataset is broken into batches to prevent your machine from running out of memory.  The CIFAR-10 dataset consists of 5 batches, named `data_batch_1`, `data_batch_2`, etc.. Each batch contains the labels and images that are one of the following:\n",
    "* airplane\n",
    "* automobile\n",
    "* bird\n",
    "* cat\n",
    "* deer\n",
    "* dog\n",
    "* frog\n",
    "* horse\n",
    "* ship\n",
    "* truck\n",
    "\n",
    "Understanding a dataset is part of making predictions on the data.  Play around with the code cell below by changing the `batch_id` and `sample_id`. The `batch_id` is the id for a batch (1-5). The `sample_id` is the id for a image and label pair in the batch.\n",
    "\n",
    "Ask yourself \"What are all possible labels?\", \"What is the range of values for the image data?\", \"Are the labels in order or random?\".  Answers to questions like these will help you preprocess the data and end up with better predictions."
   ]
  },
  {
   "cell_type": "code",
   "execution_count": 17,
   "metadata": {
    "collapsed": false
   },
   "outputs": [
    {
     "name": "stdout",
     "output_type": "stream",
     "text": [
      "\n",
      "Stats of batch 1:\n",
      "Samples: 10000\n",
      "Label Counts: {0: 1005, 1: 974, 2: 1032, 3: 1016, 4: 999, 5: 937, 6: 1030, 7: 1001, 8: 1025, 9: 981}\n",
      "First 20 Labels: [6, 9, 9, 4, 1, 1, 2, 7, 8, 3, 4, 7, 7, 2, 9, 9, 9, 3, 2, 6]\n",
      "\n",
      "Example of Image 5:\n",
      "Image - Min Value: 0 Max Value: 252\n",
      "Image - Shape: (32, 32, 3)\n",
      "Label - Label Id: 1 Name: automobile\n"
     ]
    },
    {
     "data": {
      "image/png": "[encoded data removed]",
      "text/plain": [
       "<matplotlib.figure.Figure at 0x2c613a9ea58>"
      ]
     },
     "metadata": {
      "image/png": {
       "height": 250,
       "width": 253
      }
     },
     "output_type": "display_data"
    }
   ],
   "source": [
    "%matplotlib inline\n",
    "%config InlineBackend.figure_format = 'retina'\n",
    "\n",
    "import helper\n",
    "import numpy as np\n",
    "\n",
    "# Explore the dataset\n",
    "batch_id = 1\n",
    "sample_id = 5\n",
    "helper.display_stats(cifar10_dataset_folder_path, batch_id, sample_id)"
   ]
  },
  {
   "cell_type": "code",
   "execution_count": 18,
   "metadata": {
    "collapsed": false
   },
   "outputs": [
    {
     "name": "stdout",
     "output_type": "stream",
     "text": [
      "\n",
      "Stats of batch 2:\n",
      "Samples: 10000\n",
      "Label Counts: {0: 984, 1: 1007, 2: 1010, 3: 995, 4: 1010, 5: 988, 6: 1008, 7: 1026, 8: 987, 9: 985}\n",
      "First 20 Labels: [1, 6, 6, 8, 8, 3, 4, 6, 0, 6, 0, 3, 6, 6, 5, 4, 8, 3, 2, 6]\n",
      "\n",
      "Example of Image 5:\n",
      "Image - Min Value: 3 Max Value: 219\n",
      "Image - Shape: (32, 32, 3)\n",
      "Label - Label Id: 3 Name: cat\n"
     ]
    },
    {
     "data": {
      "image/png": "[encoded data removed]",
      "text/plain": [
       "<matplotlib.figure.Figure at 0x2c61429ecf8>"
      ]
     },
     "metadata": {
      "image/png": {
       "height": 250,
       "width": 253
      }
     },
     "output_type": "display_data"
    }
   ],
   "source": [
    "batch_id = 2\n",
    "sample_id = 5\n",
    "helper.display_stats(cifar10_dataset_folder_path, batch_id, sample_id)"
   ]
  },
  {
   "cell_type": "code",
   "execution_count": 19,
   "metadata": {
    "collapsed": false
   },
   "outputs": [
    {
     "name": "stdout",
     "output_type": "stream",
     "text": [
      "\n",
      "Stats of batch 3:\n",
      "Samples: 10000\n",
      "Label Counts: {0: 994, 1: 1042, 2: 965, 3: 997, 4: 990, 5: 1029, 6: 978, 7: 1015, 8: 961, 9: 1029}\n",
      "First 20 Labels: [8, 5, 0, 6, 9, 2, 8, 3, 6, 2, 7, 4, 6, 9, 0, 0, 7, 3, 7, 2]\n",
      "\n",
      "Example of Image 5:\n",
      "Image - Min Value: 9 Max Value: 255\n",
      "Image - Shape: (32, 32, 3)\n",
      "Label - Label Id: 2 Name: bird\n"
     ]
    },
    {
     "data": {
      "image/png": "[encoded data removed]",
      "text/plain": [
       "<matplotlib.figure.Figure at 0x2c614570a90>"
      ]
     },
     "metadata": {
      "image/png": {
       "height": 250,
       "width": 253
      }
     },
     "output_type": "display_data"
    }
   ],
   "source": [
    "batch_id = 3\n",
    "sample_id = 5\n",
    "helper.display_stats(cifar10_dataset_folder_path, batch_id, sample_id)"
   ]
  },
  {
   "cell_type": "markdown",
   "metadata": {},
   "source": [
    "## Implement Preprocess Functions\n",
    "### Normalize\n",
    "In the cell below, implement the `normalize` function to take in image data, `x`, and return it as a normalized Numpy array. The values should be in the range of 0 to 1, inclusive.  The return object should be the same shape as `x`."
   ]
  },
  {
   "cell_type": "code",
   "execution_count": 20,
   "metadata": {
    "collapsed": false
   },
   "outputs": [
    {
     "name": "stdout",
     "output_type": "stream",
     "text": [
      "Tests Passed\n"
     ]
    }
   ],
   "source": [
    "def normalize(x):\n",
    "    \"\"\"\n",
    "    Normalize a list of sample image data in the range of 0 to 1\n",
    "    : x: List of image data.  The image shape is (32, 32, 3)\n",
    "    : return: Numpy array of normalize data\n",
    "    \"\"\"\n",
    "    # TODO: Implement Function\n",
    "    min = np.min(x)\n",
    "    max = np.max(x)\n",
    "    return (x - min)/(max - min)\n",
    "\n",
    "\n",
    "\"\"\"\n",
    "DON'T MODIFY ANYTHING IN THIS CELL THAT IS BELOW THIS LINE\n",
    "\"\"\"\n",
    "tests.test_normalize(normalize)"
   ]
  },
  {
   "cell_type": "markdown",
   "metadata": {},
   "source": [
    "### One-hot encode\n",
    "Just like the previous code cell, you'll be implementing a function for preprocessing.  This time, you'll implement the `one_hot_encode` function. The input, `x`, are a list of labels.  Implement the function to return the list of labels as One-Hot encoded Numpy array.  The possible values for labels are 0 to 9. The one-hot encoding function should return the same encoding for each value between each call to `one_hot_encode`.  Make sure to save the map of encodings outside the function.\n",
    "\n",
    "Hint: Don't reinvent the wheel."
   ]
  },
  {
   "cell_type": "code",
   "execution_count": 21,
   "metadata": {
    "collapsed": false
   },
   "outputs": [
    {
     "name": "stdout",
     "output_type": "stream",
     "text": [
      "Tests Passed\n"
     ]
    }
   ],
   "source": [
    "def one_hot_encode(x):\n",
    "    \"\"\"\n",
    "    One hot encode a list of sample labels. Return a one-hot encoded vector for each label.\n",
    "    : x: List of sample Labels\n",
    "    : return: Numpy array of one-hot encoded labels\n",
    "    \"\"\"\n",
    "    # TODO: Implement Function\n",
    "    return np.eye(10)[x]\n",
    "\n",
    "\n",
    "\"\"\"\n",
    "DON'T MODIFY ANYTHING IN THIS CELL THAT IS BELOW THIS LINE\n",
    "\"\"\"\n",
    "tests.test_one_hot_encode(one_hot_encode)"
   ]
  },
  {
   "cell_type": "code",
   "execution_count": 22,
   "metadata": {
    "collapsed": false
   },
   "outputs": [
    {
     "data": {
      "text/plain": [
       "array([[ 1.,  0.,  0.,  0.,  0.,  0.,  0.,  0.,  0.,  0.],\n",
       "       [ 0.,  1.,  0.,  0.,  0.,  0.,  0.,  0.,  0.,  0.],\n",
       "       [ 0.,  0.,  1.,  0.,  0.,  0.,  0.,  0.,  0.,  0.],\n",
       "       [ 0.,  0.,  0.,  1.,  0.,  0.,  0.,  0.,  0.,  0.],\n",
       "       [ 0.,  0.,  0.,  0.,  1.,  0.,  0.,  0.,  0.,  0.],\n",
       "       [ 0.,  0.,  0.,  0.,  0.,  1.,  0.,  0.,  0.,  0.],\n",
       "       [ 0.,  0.,  0.,  0.,  0.,  0.,  1.,  0.,  0.,  0.],\n",
       "       [ 0.,  0.,  0.,  0.,  0.,  0.,  0.,  1.,  0.,  0.],\n",
       "       [ 0.,  0.,  0.,  0.,  0.,  0.,  0.,  0.,  1.,  0.],\n",
       "       [ 0.,  0.,  0.,  0.,  0.,  0.,  0.,  0.,  0.,  1.]])"
      ]
     },
     "execution_count": 22,
     "metadata": {},
     "output_type": "execute_result"
    }
   ],
   "source": [
    "one_hot_encode([0, 1, 2, 3, 4, 5, 6, 7, 8, 9])"
   ]
  },
  {
   "cell_type": "markdown",
   "metadata": {},
   "source": [
    "### Randomize Data\n",
    "As you saw from exploring the data above, the order of the samples are randomized.  It doesn't hurt to randomize it again, but you don't need to for this dataset."
   ]
  },
  {
   "cell_type": "markdown",
   "metadata": {},
   "source": [
    "## Preprocess all the data and save it\n",
    "Running the code cell below will preprocess all the CIFAR-10 data and save it to file. The code below also uses 10% of the training data for validation."
   ]
  },
  {
   "cell_type": "code",
   "execution_count": 23,
   "metadata": {
    "collapsed": false
   },
   "outputs": [],
   "source": [
    "\"\"\"\n",
    "DON'T MODIFY ANYTHING IN THIS CELL\n",
    "\"\"\"\n",
    "# Preprocess Training, Validation, and Testing Data\n",
    "helper.preprocess_and_save_data(cifar10_dataset_folder_path, normalize, one_hot_encode)"
   ]
  },
  {
   "cell_type": "markdown",
   "metadata": {},
   "source": [
    "# Check Point\n",
    "This is your first checkpoint.  If you ever decide to come back to this notebook or have to restart the notebook, you can start from here.  The preprocessed data has been saved to disk."
   ]
  },
  {
   "cell_type": "code",
   "execution_count": 24,
   "metadata": {
    "collapsed": true
   },
   "outputs": [],
   "source": [
    "\"\"\"\n",
    "DON'T MODIFY ANYTHING IN THIS CELL\n",
    "\"\"\"\n",
    "import pickle\n",
    "import problem_unittests as tests\n",
    "import helper\n",
    "\n",
    "# Load the Preprocessed Validation data\n",
    "valid_features, valid_labels = pickle.load(open('preprocess_validation.p', mode='rb'))"
   ]
  },
  {
   "cell_type": "markdown",
   "metadata": {},
   "source": [
    "## Build the network\n",
    "For the neural network, you'll build each layer into a function.  Most of the code you've seen has been outside of functions. To test your code more thoroughly, we require that you put each layer in a function.  This allows us to give you better feedback and test for simple mistakes using our unittests before you submit your project.\n",
    "\n",
    ">**Note:** If you're finding it hard to dedicate enough time for this course each week, we've provided a small shortcut to this part of the project. In the next couple of problems, you'll have the option to use classes from the [TensorFlow Layers](https://www.tensorflow.org/api_docs/python/tf/layers) or [TensorFlow Layers (contrib)](https://www.tensorflow.org/api_guides/python/contrib.layers) packages to build each layer, except the layers you build in the \"Convolutional and Max Pooling Layer\" section.  TF Layers is similar to Keras's and TFLearn's abstraction to layers, so it's easy to pickup.\n",
    "\n",
    ">However, if you would like to get the most out of this course, try to solve all the problems _without_ using anything from the TF Layers packages. You **can** still use classes from other packages that happen to have the same name as ones you find in TF Layers! For example, instead of using the TF Layers version of the `conv2d` class, [tf.layers.conv2d](https://www.tensorflow.org/api_docs/python/tf/layers/conv2d), you would want to use the TF Neural Network version of `conv2d`, [tf.nn.conv2d](https://www.tensorflow.org/api_docs/python/tf/nn/conv2d). \n",
    "\n",
    "Let's begin!\n",
    "\n",
    "### Input\n",
    "The neural network needs to read the image data, one-hot encoded labels, and dropout keep probability. Implement the following functions\n",
    "* Implement `neural_net_image_input`\n",
    " * Return a [TF Placeholder](https://www.tensorflow.org/api_docs/python/tf/placeholder)\n",
    " * Set the shape using `image_shape` with batch size set to `None`.\n",
    " * Name the TensorFlow placeholder \"x\" using the TensorFlow `name` parameter in the [TF Placeholder](https://www.tensorflow.org/api_docs/python/tf/placeholder).\n",
    "* Implement `neural_net_label_input`\n",
    " * Return a [TF Placeholder](https://www.tensorflow.org/api_docs/python/tf/placeholder)\n",
    " * Set the shape using `n_classes` with batch size set to `None`.\n",
    " * Name the TensorFlow placeholder \"y\" using the TensorFlow `name` parameter in the [TF Placeholder](https://www.tensorflow.org/api_docs/python/tf/placeholder).\n",
    "* Implement `neural_net_keep_prob_input`\n",
    " * Return a [TF Placeholder](https://www.tensorflow.org/api_docs/python/tf/placeholder) for dropout keep probability.\n",
    " * Name the TensorFlow placeholder \"keep_prob\" using the TensorFlow `name` parameter in the [TF Placeholder](https://www.tensorflow.org/api_docs/python/tf/placeholder).\n",
    "\n",
    "These names will be used at the end of the project to load your saved model.\n",
    "\n",
    "Note: `None` for shapes in TensorFlow allow for a dynamic size."
   ]
  },
  {
   "cell_type": "code",
   "execution_count": 25,
   "metadata": {
    "collapsed": false
   },
   "outputs": [
    {
     "name": "stdout",
     "output_type": "stream",
     "text": [
      "Image Input Tests Passed.\n",
      "Label Input Tests Passed.\n",
      "Keep Prob Tests Passed.\n"
     ]
    }
   ],
   "source": [
    "import tensorflow as tf\n",
    "\n",
    "def neural_net_image_input(image_shape):\n",
    "    \"\"\"\n",
    "    Return a Tensor for a bach of image input\n",
    "    : image_shape: Shape of the images\n",
    "    : return: Tensor for image input.\n",
    "    \"\"\"\n",
    "    # TODO: Implement Function\n",
    "    return tf.placeholder(tf.float32, [None, *image_shape], name='x')\n",
    "\n",
    "\n",
    "def neural_net_label_input(n_classes):\n",
    "    \"\"\"\n",
    "    Return a Tensor for a batch of label input\n",
    "    : n_classes: Number of classes\n",
    "    : return: Tensor for label input.\n",
    "    \"\"\"\n",
    "    # TODO: Implement Function\n",
    "    return tf.placeholder(tf.float32, [None, n_classes], name='y')\n",
    "\n",
    "\n",
    "def neural_net_keep_prob_input():\n",
    "    \"\"\"\n",
    "    Return a Tensor for keep probability\n",
    "    : return: Tensor for keep probability.\n",
    "    \"\"\"\n",
    "    # TODO: Implement Function\n",
    "    return tf.placeholder(tf.float32, name='keep_prob')\n",
    "\n",
    "\n",
    "\"\"\"\n",
    "DON'T MODIFY ANYTHING IN THIS CELL THAT IS BELOW THIS LINE\n",
    "\"\"\"\n",
    "tf.reset_default_graph()\n",
    "tests.test_nn_image_inputs(neural_net_image_input)\n",
    "tests.test_nn_label_inputs(neural_net_label_input)\n",
    "tests.test_nn_keep_prob_inputs(neural_net_keep_prob_input)"
   ]
  },
  {
   "cell_type": "markdown",
   "metadata": {},
   "source": [
    "### Convolution and Max Pooling Layer\n",
    "Convolution layers have a lot of success with images. For this code cell, you should implement the function `conv2d_maxpool` to apply convolution then max pooling:\n",
    "* Create the weight and bias using `conv_ksize`, `conv_num_outputs` and the shape of `x_tensor`.\n",
    "* Apply a convolution to `x_tensor` using weight and `conv_strides`.\n",
    " * We recommend you use same padding, but you're welcome to use any padding.\n",
    "* Add bias\n",
    "* Add a nonlinear activation to the convolution.\n",
    "* Apply Max Pooling using `pool_ksize` and `pool_strides`.\n",
    " * We recommend you use same padding, but you're welcome to use any padding.\n",
    "\n",
    "**Note:** You **can't** use [TensorFlow Layers](https://www.tensorflow.org/api_docs/python/tf/layers) or [TensorFlow Layers (contrib)](https://www.tensorflow.org/api_guides/python/contrib.layers) for **this** layer, but you can still use TensorFlow's [Neural Network](https://www.tensorflow.org/api_docs/python/tf/nn) package. You may still use the shortcut option for all the **other** layers."
   ]
  },
  {
   "cell_type": "code",
   "execution_count": 26,
   "metadata": {
    "collapsed": false
   },
   "outputs": [
    {
     "name": "stdout",
     "output_type": "stream",
     "text": [
      "Tests Passed\n"
     ]
    }
   ],
   "source": [
    "def conv2d_maxpool(x_tensor, conv_num_outputs, conv_ksize, conv_strides, pool_ksize, pool_strides):\n",
    "    \"\"\"\n",
    "    Apply convolution then max pooling to x_tensor\n",
    "    :param x_tensor: TensorFlow Tensor\n",
    "    :param conv_num_outputs: Number of outputs for the convolutional layer\n",
    "    :param conv_ksize: kernal size 2-D Tuple for the convolutional layer\n",
    "    :param conv_strides: Stride 2-D Tuple for convolution\n",
    "    :param pool_ksize: kernal size 2-D Tuple for pool\n",
    "    :param pool_strides: Stride 2-D Tuple for pool\n",
    "    : return: A tensor that represents convolution and max pooling of x_tensor\n",
    "    \"\"\"\n",
    "    # TODO: Implement Function\n",
    "    in_depth = int(x_tensor.shape[3])\n",
    "    out_depth = conv_num_outputs\n",
    "    w_shape = [*conv_ksize, in_depth, out_depth]\n",
    "    w = tf.Variable(tf.random_normal(w_shape, stddev=0.01))\n",
    "    b = tf.Variable(tf.zeros(out_depth))\n",
    "    \n",
    "    conv_strides = [1, *conv_strides, 1]\n",
    "    x = tf.nn.conv2d(x_tensor, w, strides=conv_strides, padding='SAME')\n",
    "    \n",
    "    x = tf.nn.bias_add(x, b)\n",
    "    x = tf.nn.relu(x)\n",
    "    \n",
    "    pool_ksize = [1, *pool_ksize, 1]\n",
    "    pool_strides = [1, *pool_strides, 1]\n",
    "    x = tf.nn.max_pool(x, pool_ksize, pool_strides, padding='SAME')\n",
    "    return x\n",
    "\n",
    "\n",
    "\"\"\"\n",
    "DON'T MODIFY ANYTHING IN THIS CELL THAT IS BELOW THIS LINE\n",
    "\"\"\"\n",
    "tests.test_con_pool(conv2d_maxpool)"
   ]
  },
  {
   "cell_type": "markdown",
   "metadata": {},
   "source": [
    "### Flatten Layer\n",
    "Implement the `flatten` function to change the dimension of `x_tensor` from a 4-D tensor to a 2-D tensor.  The output should be the shape (*Batch Size*, *Flattened Image Size*). Shortcut option: you can use classes from the [TensorFlow Layers](https://www.tensorflow.org/api_docs/python/tf/layers) or [TensorFlow Layers (contrib)](https://www.tensorflow.org/api_guides/python/contrib.layers) packages for this layer. For more of a challenge, only use other TensorFlow packages."
   ]
  },
  {
   "cell_type": "code",
   "execution_count": 27,
   "metadata": {
    "collapsed": false
   },
   "outputs": [
    {
     "name": "stdout",
     "output_type": "stream",
     "text": [
      "Tests Passed\n"
     ]
    }
   ],
   "source": [
    "def flatten(x_tensor):\n",
    "    \"\"\"\n",
    "    Flatten x_tensor to (Batch Size, Flattened Image Size)\n",
    "    : x_tensor: A tensor of size (Batch Size, ...), where ... are the image dimensions.\n",
    "    : return: A tensor of size (Batch Size, Flattened Image Size).\n",
    "    \"\"\"\n",
    "    # TODO: Implement Function\n",
    "    batch_size, *img_size = x_tensor.get_shape().as_list()\n",
    "    img_size = img_size[0] * img_size[1] * img_size[2]\n",
    "    return tf.reshape(x_tensor, [-1, img_size])\n",
    "\n",
    "\n",
    "\"\"\"\n",
    "DON'T MODIFY ANYTHING IN THIS CELL THAT IS BELOW THIS LINE\n",
    "\"\"\"\n",
    "tests.test_flatten(flatten)"
   ]
  },
  {
   "cell_type": "markdown",
   "metadata": {},
   "source": [
    "### Fully-Connected Layer\n",
    "Implement the `fully_conn` function to apply a fully connected layer to `x_tensor` with the shape (*Batch Size*, *num_outputs*). Shortcut option: you can use classes from the [TensorFlow Layers](https://www.tensorflow.org/api_docs/python/tf/layers) or [TensorFlow Layers (contrib)](https://www.tensorflow.org/api_guides/python/contrib.layers) packages for this layer. For more of a challenge, only use other TensorFlow packages."
   ]
  },
  {
   "cell_type": "code",
   "execution_count": 28,
   "metadata": {
    "collapsed": false
   },
   "outputs": [
    {
     "name": "stdout",
     "output_type": "stream",
     "text": [
      "Tests Passed\n"
     ]
    }
   ],
   "source": [
    "def fully_conn(x_tensor, num_outputs):\n",
    "    \"\"\"\n",
    "    Apply a fully connected layer to x_tensor using weight and bias\n",
    "    : x_tensor: A 2-D tensor where the first dimension is batch size.\n",
    "    : num_outputs: The number of output that the new tensor should be.\n",
    "    : return: A 2-D tensor where the second dimension is num_outputs.\n",
    "    \"\"\"\n",
    "    # TODO: Implement Function\n",
    "    w_shape = (int(x_tensor.get_shape().as_list()[1]), num_outputs)\n",
    "    w = tf.Variable(tf.random_normal(w_shape, stddev=0.1))\n",
    "    b = tf.Variable(tf.zeros(num_outputs))\n",
    "    x = tf.add(tf.matmul(x_tensor, w), b)\n",
    "    x = tf.nn.relu(x)\n",
    "    return x\n",
    "\n",
    "\n",
    "\"\"\"\n",
    "DON'T MODIFY ANYTHING IN THIS CELL THAT IS BELOW THIS LINE\n",
    "\"\"\"\n",
    "tests.test_fully_conn(fully_conn)"
   ]
  },
  {
   "cell_type": "markdown",
   "metadata": {},
   "source": [
    "### Output Layer\n",
    "Implement the `output` function to apply a fully connected layer to `x_tensor` with the shape (*Batch Size*, *num_outputs*). Shortcut option: you can use classes from the [TensorFlow Layers](https://www.tensorflow.org/api_docs/python/tf/layers) or [TensorFlow Layers (contrib)](https://www.tensorflow.org/api_guides/python/contrib.layers) packages for this layer. For more of a challenge, only use other TensorFlow packages.\n",
    "\n",
    "**Note:** Activation, softmax, or cross entropy should **not** be applied to this."
   ]
  },
  {
   "cell_type": "code",
   "execution_count": 29,
   "metadata": {
    "collapsed": false
   },
   "outputs": [
    {
     "name": "stdout",
     "output_type": "stream",
     "text": [
      "Tests Passed\n"
     ]
    }
   ],
   "source": [
    "def output(x_tensor, num_outputs):\n",
    "    \"\"\"\n",
    "    Apply a output layer to x_tensor using weight and bias\n",
    "    : x_tensor: A 2-D tensor where the first dimension is batch size.\n",
    "    : num_outputs: The number of output that the new tensor should be.\n",
    "    : return: A 2-D tensor where the second dimension is num_outputs.\n",
    "    \"\"\"\n",
    "    # TODO: Implement Function\n",
    "    w_shape = [int(x_tensor.get_shape().as_list()[1]), num_outputs]\n",
    "    w = tf.Variable(tf.random_normal(w_shape, stddev=0.1))\n",
    "    b = tf.Variable(tf.zeros(num_outputs))\n",
    "    x = tf.add(tf.matmul(x_tensor, w), b)\n",
    "    return x\n",
    "\n",
    "\n",
    "\"\"\"\n",
    "DON'T MODIFY ANYTHING IN THIS CELL THAT IS BELOW THIS LINE\n",
    "\"\"\"\n",
    "tests.test_output(output)"
   ]
  },
  {
   "cell_type": "markdown",
   "metadata": {},
   "source": [
    "### Create Convolutional Model\n",
    "Implement the function `conv_net` to create a convolutional neural network model. The function takes in a batch of images, `x`, and outputs logits.  Use the layers you created above to create this model:\n",
    "\n",
    "* Apply 1, 2, or 3 Convolution and Max Pool layers\n",
    "* Apply a Flatten Layer\n",
    "* Apply 1, 2, or 3 Fully Connected Layers\n",
    "* Apply an Output Layer\n",
    "* Return the output\n",
    "* Apply [TensorFlow's Dropout](https://www.tensorflow.org/api_docs/python/tf/nn/dropout) to one or more layers in the model using `keep_prob`. "
   ]
  },
  {
   "cell_type": "code",
   "execution_count": 30,
   "metadata": {
    "collapsed": false
   },
   "outputs": [
    {
     "name": "stdout",
     "output_type": "stream",
     "text": [
      "Neural Network Built!\n"
     ]
    }
   ],
   "source": [
    "def conv_net(x, keep_prob):\n",
    "    \"\"\"\n",
    "    Create a convolutional neural network model\n",
    "    : x: Placeholder tensor that holds image data.\n",
    "    : keep_prob: Placeholder tensor that hold dropout keep probability.\n",
    "    : return: Tensor that represents logits\n",
    "    \"\"\"\n",
    "    # TODO: Apply 1, 2, or 3 Convolution and Max Pool layers\n",
    "    #    Play around with different number of outputs, kernel size and stride\n",
    "    # Function Definition from Above:\n",
    "    #    conv2d_maxpool(x_tensor, conv_num_outputs, conv_ksize, conv_strides, pool_ksize, pool_strides)\n",
    "    x = conv2d_maxpool(x, 32, (3, 3), (1, 1), (2, 2), (2, 2))\n",
    "    x = conv2d_maxpool(x, 32, (3, 3), (2, 2), (2, 2), (2, 2))\n",
    "    x = conv2d_maxpool(x, 64, (3, 3), (1, 1), (2, 2), (2, 2))\n",
    "\n",
    "    # TODO: Apply a Flatten Layer\n",
    "    # Function Definition from Above:\n",
    "    #   flatten(x_tensor)\n",
    "    x = flatten(x)\n",
    "\n",
    "    # TODO: Apply 1, 2, or 3 Fully Connected Layers\n",
    "    #    Play around with different number of outputs\n",
    "    # Function Definition from Above:\n",
    "    #   fully_conn(x_tensor, num_outputs)\n",
    "    x = fully_conn(x, 512)\n",
    "    x = tf.nn.dropout(x, keep_prob)\n",
    "    x = fully_conn(x, 128)\n",
    "    x = tf.nn.dropout(x, keep_prob)    \n",
    "    \n",
    "    # TODO: Apply an Output Layer\n",
    "    #    Set this to the number of classes\n",
    "    # Function Definition from Above:\n",
    "    #   output(x_tensor, num_outputs)\n",
    "    out = output(x, 10)\n",
    "   \n",
    "    # TODO: return output\n",
    "    return out\n",
    "\n",
    "\n",
    "\"\"\"\n",
    "DON'T MODIFY ANYTHING IN THIS CELL THAT IS BELOW THIS LINE\n",
    "\"\"\"\n",
    "\n",
    "##############################\n",
    "## Build the Neural Network ##\n",
    "##############################\n",
    "\n",
    "# Remove previous weights, bias, inputs, etc..\n",
    "tf.reset_default_graph()\n",
    "\n",
    "# Inputs\n",
    "x = neural_net_image_input((32, 32, 3))\n",
    "y = neural_net_label_input(10)\n",
    "keep_prob = neural_net_keep_prob_input()\n",
    "\n",
    "# Model\n",
    "logits = conv_net(x, keep_prob)\n",
    "\n",
    "# Name logits Tensor, so that is can be loaded from disk after training\n",
    "logits = tf.identity(logits, name='logits')\n",
    "\n",
    "# Loss and Optimizer\n",
    "cost = tf.reduce_mean(tf.nn.softmax_cross_entropy_with_logits(logits=logits, labels=y))\n",
    "optimizer = tf.train.AdamOptimizer().minimize(cost)\n",
    "\n",
    "# Accuracy\n",
    "correct_pred = tf.equal(tf.argmax(logits, 1), tf.argmax(y, 1))\n",
    "accuracy = tf.reduce_mean(tf.cast(correct_pred, tf.float32), name='accuracy')\n",
    "\n",
    "tests.test_conv_net(conv_net)"
   ]
  },
  {
   "cell_type": "markdown",
   "metadata": {},
   "source": [
    "## Train the Neural Network\n",
    "### Single Optimization\n",
    "Implement the function `train_neural_network` to do a single optimization.  The optimization should use `optimizer` to optimize in `session` with a `feed_dict` of the following:\n",
    "* `x` for image input\n",
    "* `y` for labels\n",
    "* `keep_prob` for keep probability for dropout\n",
    "\n",
    "This function will be called for each batch, so `tf.global_variables_initializer()` has already been called.\n",
    "\n",
    "Note: Nothing needs to be returned. This function is only optimizing the neural network."
   ]
  },
  {
   "cell_type": "code",
   "execution_count": 31,
   "metadata": {
    "collapsed": false
   },
   "outputs": [
    {
     "name": "stdout",
     "output_type": "stream",
     "text": [
      "Tests Passed\n"
     ]
    }
   ],
   "source": [
    "def train_neural_network(session, optimizer, keep_probability, feature_batch, label_batch):\n",
    "    \"\"\"\n",
    "    Optimize the session on a batch of images and labels\n",
    "    : session: Current TensorFlow session\n",
    "    : optimizer: TensorFlow optimizer function\n",
    "    : keep_probability: keep probability\n",
    "    : feature_batch: Batch of Numpy image data\n",
    "    : label_batch: Batch of Numpy label data\n",
    "    \"\"\"\n",
    "    # TODO: Implement Function\n",
    "    session.run(optimizer, feed_dict={\n",
    "        x: feature_batch,\n",
    "        y: label_batch,\n",
    "        keep_prob: keep_probability\n",
    "    })\n",
    "\n",
    "\n",
    "\"\"\"\n",
    "DON'T MODIFY ANYTHING IN THIS CELL THAT IS BELOW THIS LINE\n",
    "\"\"\"\n",
    "tests.test_train_nn(train_neural_network)"
   ]
  },
  {
   "cell_type": "markdown",
   "metadata": {},
   "source": [
    "### Show Stats\n",
    "Implement the function `print_stats` to print loss and validation accuracy.  Use the global variables `valid_features` and `valid_labels` to calculate validation accuracy.  Use a keep probability of `1.0` to calculate the loss and validation accuracy."
   ]
  },
  {
   "cell_type": "code",
   "execution_count": 32,
   "metadata": {
    "collapsed": false
   },
   "outputs": [],
   "source": [
    "def print_stats(session, feature_batch, label_batch, cost, accuracy):\n",
    "    \"\"\"\n",
    "    Print information about loss and validation accuracy\n",
    "    : session: Current TensorFlow session\n",
    "    : feature_batch: Batch of Numpy image data\n",
    "    : label_batch: Batch of Numpy label data\n",
    "    : cost: TensorFlow cost function\n",
    "    : accuracy: TensorFlow accuracy function\n",
    "    \"\"\"\n",
    "    # TODO: Implement Function\n",
    "    loss = session.run(cost, feed_dict={\n",
    "        x: feature_batch,\n",
    "        y: label_batch,\n",
    "        keep_prob: 1.\n",
    "    })\n",
    "    \n",
    "    valid_accuracy = session.run(accuracy, feed_dict={\n",
    "        x: valid_features,\n",
    "        y: valid_labels,\n",
    "        keep_prob: 1.\n",
    "    })\n",
    "\n",
    "    print('Loss: {:>10.4f} Validation Accuracy: {:.6f}'.format(loss, valid_accuracy))"
   ]
  },
  {
   "cell_type": "markdown",
   "metadata": {},
   "source": [
    "### Hyperparameters\n",
    "Tune the following parameters:\n",
    "* Set `epochs` to the number of iterations until the network stops learning or start overfitting\n",
    "* Set `batch_size` to the highest number that your machine has memory for.  Most people set them to common sizes of memory:\n",
    " * 64\n",
    " * 128\n",
    " * 256\n",
    " * ...\n",
    "* Set `keep_probability` to the probability of keeping a node using dropout"
   ]
  },
  {
   "cell_type": "code",
   "execution_count": 33,
   "metadata": {
    "collapsed": true
   },
   "outputs": [],
   "source": [
    "# TODO: Tune Parameters\n",
    "epochs = 50\n",
    "batch_size = 256\n",
    "keep_probability = 0.5"
   ]
  },
  {
   "cell_type": "markdown",
   "metadata": {},
   "source": [
    "### Train on a Single CIFAR-10 Batch\n",
    "Instead of training the neural network on all the CIFAR-10 batches of data, let's use a single batch. This should save time while you iterate on the model to get a better accuracy.  Once the final validation accuracy is 50% or greater, run the model on all the data in the next section."
   ]
  },
  {
   "cell_type": "code",
   "execution_count": 34,
   "metadata": {
    "collapsed": false
   },
   "outputs": [
    {
     "name": "stdout",
     "output_type": "stream",
     "text": [
      "Checking the Training on a Single Batch...\n",
      "Epoch  1, CIFAR-10 Batch 1:  Loss:     2.2750 Validation Accuracy: 0.150800\n",
      "Epoch  2, CIFAR-10 Batch 1:  Loss:     2.2047 Validation Accuracy: 0.208800\n",
      "Epoch  3, CIFAR-10 Batch 1:  Loss:     2.1668 Validation Accuracy: 0.250800\n",
      "Epoch  4, CIFAR-10 Batch 1:  Loss:     2.1332 Validation Accuracy: 0.270600\n",
      "Epoch  5, CIFAR-10 Batch 1:  Loss:     2.0780 Validation Accuracy: 0.284000\n",
      "Epoch  6, CIFAR-10 Batch 1:  Loss:     2.0727 Validation Accuracy: 0.278200\n",
      "Epoch  7, CIFAR-10 Batch 1:  Loss:     2.0575 Validation Accuracy: 0.310400\n",
      "Epoch  8, CIFAR-10 Batch 1:  Loss:     2.0120 Validation Accuracy: 0.330800\n",
      "Epoch  9, CIFAR-10 Batch 1:  Loss:     1.9736 Validation Accuracy: 0.347800\n",
      "Epoch 10, CIFAR-10 Batch 1:  Loss:     1.8768 Validation Accuracy: 0.367000\n",
      "Epoch 11, CIFAR-10 Batch 1:  Loss:     1.7876 Validation Accuracy: 0.374200\n",
      "Epoch 12, CIFAR-10 Batch 1:  Loss:     1.7400 Validation Accuracy: 0.389200\n",
      "Epoch 13, CIFAR-10 Batch 1:  Loss:     1.6819 Validation Accuracy: 0.386800\n",
      "Epoch 14, CIFAR-10 Batch 1:  Loss:     1.6326 Validation Accuracy: 0.389400\n",
      "Epoch 15, CIFAR-10 Batch 1:  Loss:     1.5852 Validation Accuracy: 0.400600\n",
      "Epoch 16, CIFAR-10 Batch 1:  Loss:     1.5606 Validation Accuracy: 0.411400\n",
      "Epoch 17, CIFAR-10 Batch 1:  Loss:     1.4709 Validation Accuracy: 0.422400\n",
      "Epoch 18, CIFAR-10 Batch 1:  Loss:     1.4739 Validation Accuracy: 0.416200\n",
      "Epoch 19, CIFAR-10 Batch 1:  Loss:     1.3918 Validation Accuracy: 0.436800\n",
      "Epoch 20, CIFAR-10 Batch 1:  Loss:     1.3323 Validation Accuracy: 0.433000\n",
      "Epoch 21, CIFAR-10 Batch 1:  Loss:     1.3116 Validation Accuracy: 0.437200\n",
      "Epoch 22, CIFAR-10 Batch 1:  Loss:     1.2851 Validation Accuracy: 0.446400\n",
      "Epoch 23, CIFAR-10 Batch 1:  Loss:     1.2670 Validation Accuracy: 0.444200\n",
      "Epoch 24, CIFAR-10 Batch 1:  Loss:     1.1924 Validation Accuracy: 0.454600\n",
      "Epoch 25, CIFAR-10 Batch 1:  Loss:     1.1654 Validation Accuracy: 0.450400\n",
      "Epoch 26, CIFAR-10 Batch 1:  Loss:     1.1647 Validation Accuracy: 0.461000\n",
      "Epoch 27, CIFAR-10 Batch 1:  Loss:     1.1383 Validation Accuracy: 0.467400\n",
      "Epoch 28, CIFAR-10 Batch 1:  Loss:     1.1069 Validation Accuracy: 0.467200\n",
      "Epoch 29, CIFAR-10 Batch 1:  Loss:     1.0738 Validation Accuracy: 0.474600\n",
      "Epoch 30, CIFAR-10 Batch 1:  Loss:     1.0079 Validation Accuracy: 0.473200\n",
      "Epoch 31, CIFAR-10 Batch 1:  Loss:     0.9970 Validation Accuracy: 0.473200\n",
      "Epoch 32, CIFAR-10 Batch 1:  Loss:     0.9781 Validation Accuracy: 0.480400\n",
      "Epoch 33, CIFAR-10 Batch 1:  Loss:     0.9374 Validation Accuracy: 0.480600\n",
      "Epoch 34, CIFAR-10 Batch 1:  Loss:     0.8934 Validation Accuracy: 0.488600\n",
      "Epoch 35, CIFAR-10 Batch 1:  Loss:     0.8910 Validation Accuracy: 0.480800\n",
      "Epoch 36, CIFAR-10 Batch 1:  Loss:     0.8698 Validation Accuracy: 0.483000\n",
      "Epoch 37, CIFAR-10 Batch 1:  Loss:     0.8360 Validation Accuracy: 0.493400\n",
      "Epoch 38, CIFAR-10 Batch 1:  Loss:     0.8032 Validation Accuracy: 0.497600\n",
      "Epoch 39, CIFAR-10 Batch 1:  Loss:     0.7880 Validation Accuracy: 0.498200\n",
      "Epoch 40, CIFAR-10 Batch 1:  Loss:     0.7799 Validation Accuracy: 0.496600\n",
      "Epoch 41, CIFAR-10 Batch 1:  Loss:     0.7587 Validation Accuracy: 0.504000\n",
      "Epoch 42, CIFAR-10 Batch 1:  Loss:     0.7279 Validation Accuracy: 0.498600\n",
      "Epoch 43, CIFAR-10 Batch 1:  Loss:     0.7255 Validation Accuracy: 0.505800\n",
      "Epoch 44, CIFAR-10 Batch 1:  Loss:     0.7264 Validation Accuracy: 0.512600\n",
      "Epoch 45, CIFAR-10 Batch 1:  Loss:     0.6933 Validation Accuracy: 0.513400\n",
      "Epoch 46, CIFAR-10 Batch 1:  Loss:     0.6676 Validation Accuracy: 0.517000\n",
      "Epoch 47, CIFAR-10 Batch 1:  Loss:     0.6782 Validation Accuracy: 0.509800\n",
      "Epoch 48, CIFAR-10 Batch 1:  Loss:     0.6387 Validation Accuracy: 0.518000\n",
      "Epoch 49, CIFAR-10 Batch 1:  Loss:     0.6559 Validation Accuracy: 0.514800\n",
      "Epoch 50, CIFAR-10 Batch 1:  Loss:     0.6672 Validation Accuracy: 0.516200\n"
     ]
    }
   ],
   "source": [
    "\"\"\"\n",
    "DON'T MODIFY ANYTHING IN THIS CELL\n",
    "\"\"\"\n",
    "print('Checking the Training on a Single Batch...')\n",
    "with tf.Session() as sess:\n",
    "    # Initializing the variables\n",
    "    sess.run(tf.global_variables_initializer())\n",
    "    \n",
    "    # Training cycle\n",
    "    for epoch in range(epochs):\n",
    "        batch_i = 1\n",
    "        for batch_features, batch_labels in helper.load_preprocess_training_batch(batch_i, batch_size):\n",
    "            train_neural_network(sess, optimizer, keep_probability, batch_features, batch_labels)\n",
    "        print('Epoch {:>2}, CIFAR-10 Batch {}:  '.format(epoch + 1, batch_i), end='')\n",
    "        print_stats(sess, batch_features, batch_labels, cost, accuracy)"
   ]
  },
  {
   "cell_type": "markdown",
   "metadata": {},
   "source": [
    "### Fully Train the Model\n",
    "Now that you got a good accuracy with a single CIFAR-10 batch, try it with all five batches."
   ]
  },
  {
   "cell_type": "code",
   "execution_count": 35,
   "metadata": {
    "collapsed": false
   },
   "outputs": [
    {
     "name": "stdout",
     "output_type": "stream",
     "text": [
      "Training...\n",
      "Epoch  1, CIFAR-10 Batch 1:  Loss:     2.2997 Validation Accuracy: 0.102000\n",
      "Epoch  1, CIFAR-10 Batch 2:  Loss:     2.1964 Validation Accuracy: 0.215600\n",
      "Epoch  1, CIFAR-10 Batch 3:  Loss:     1.9106 Validation Accuracy: 0.245000\n",
      "Epoch  1, CIFAR-10 Batch 4:  Loss:     2.0115 Validation Accuracy: 0.243400\n",
      "Epoch  1, CIFAR-10 Batch 5:  Loss:     2.1197 Validation Accuracy: 0.272800\n",
      "Epoch  2, CIFAR-10 Batch 1:  Loss:     2.1401 Validation Accuracy: 0.287400\n",
      "Epoch  2, CIFAR-10 Batch 2:  Loss:     2.0370 Validation Accuracy: 0.310800\n",
      "Epoch  2, CIFAR-10 Batch 3:  Loss:     1.7684 Validation Accuracy: 0.286600\n",
      "Epoch  2, CIFAR-10 Batch 4:  Loss:     1.8354 Validation Accuracy: 0.314200\n",
      "Epoch  2, CIFAR-10 Batch 5:  Loss:     1.9687 Validation Accuracy: 0.338400\n",
      "Epoch  3, CIFAR-10 Batch 1:  Loss:     1.9774 Validation Accuracy: 0.348000\n",
      "Epoch  3, CIFAR-10 Batch 2:  Loss:     1.9031 Validation Accuracy: 0.357600\n",
      "Epoch  3, CIFAR-10 Batch 3:  Loss:     1.5725 Validation Accuracy: 0.367600\n",
      "Epoch  3, CIFAR-10 Batch 4:  Loss:     1.6870 Validation Accuracy: 0.372600\n",
      "Epoch  3, CIFAR-10 Batch 5:  Loss:     1.8193 Validation Accuracy: 0.385000\n",
      "Epoch  4, CIFAR-10 Batch 1:  Loss:     1.8093 Validation Accuracy: 0.376600\n",
      "Epoch  4, CIFAR-10 Batch 2:  Loss:     1.8473 Validation Accuracy: 0.392800\n",
      "Epoch  4, CIFAR-10 Batch 3:  Loss:     1.4712 Validation Accuracy: 0.403400\n",
      "Epoch  4, CIFAR-10 Batch 4:  Loss:     1.5535 Validation Accuracy: 0.407000\n",
      "Epoch  4, CIFAR-10 Batch 5:  Loss:     1.7148 Validation Accuracy: 0.420600\n",
      "Epoch  5, CIFAR-10 Batch 1:  Loss:     1.6560 Validation Accuracy: 0.423600\n",
      "Epoch  5, CIFAR-10 Batch 2:  Loss:     1.7749 Validation Accuracy: 0.416800\n",
      "Epoch  5, CIFAR-10 Batch 3:  Loss:     1.4454 Validation Accuracy: 0.428400\n",
      "Epoch  5, CIFAR-10 Batch 4:  Loss:     1.4897 Validation Accuracy: 0.440200\n",
      "Epoch  5, CIFAR-10 Batch 5:  Loss:     1.6245 Validation Accuracy: 0.446200\n",
      "Epoch  6, CIFAR-10 Batch 1:  Loss:     1.6134 Validation Accuracy: 0.437800\n",
      "Epoch  6, CIFAR-10 Batch 2:  Loss:     1.6102 Validation Accuracy: 0.453200\n",
      "Epoch  6, CIFAR-10 Batch 3:  Loss:     1.3652 Validation Accuracy: 0.436000\n",
      "Epoch  6, CIFAR-10 Batch 4:  Loss:     1.4219 Validation Accuracy: 0.455200\n",
      "Epoch  6, CIFAR-10 Batch 5:  Loss:     1.5663 Validation Accuracy: 0.457600\n",
      "Epoch  7, CIFAR-10 Batch 1:  Loss:     1.5927 Validation Accuracy: 0.451600\n",
      "Epoch  7, CIFAR-10 Batch 2:  Loss:     1.5392 Validation Accuracy: 0.472200\n",
      "Epoch  7, CIFAR-10 Batch 3:  Loss:     1.2481 Validation Accuracy: 0.450400\n",
      "Epoch  7, CIFAR-10 Batch 4:  Loss:     1.3547 Validation Accuracy: 0.468200\n",
      "Epoch  7, CIFAR-10 Batch 5:  Loss:     1.4694 Validation Accuracy: 0.483800\n",
      "Epoch  8, CIFAR-10 Batch 1:  Loss:     1.5497 Validation Accuracy: 0.485000\n",
      "Epoch  8, CIFAR-10 Batch 2:  Loss:     1.4586 Validation Accuracy: 0.478200\n",
      "Epoch  8, CIFAR-10 Batch 3:  Loss:     1.1887 Validation Accuracy: 0.465000\n",
      "Epoch  8, CIFAR-10 Batch 4:  Loss:     1.3106 Validation Accuracy: 0.472000\n",
      "Epoch  8, CIFAR-10 Batch 5:  Loss:     1.4300 Validation Accuracy: 0.486600\n",
      "Epoch  9, CIFAR-10 Batch 1:  Loss:     1.4948 Validation Accuracy: 0.493800\n",
      "Epoch  9, CIFAR-10 Batch 2:  Loss:     1.3403 Validation Accuracy: 0.495000\n",
      "Epoch  9, CIFAR-10 Batch 3:  Loss:     1.1181 Validation Accuracy: 0.489800\n",
      "Epoch  9, CIFAR-10 Batch 4:  Loss:     1.2679 Validation Accuracy: 0.507200\n",
      "Epoch  9, CIFAR-10 Batch 5:  Loss:     1.3946 Validation Accuracy: 0.495200\n",
      "Epoch 10, CIFAR-10 Batch 1:  Loss:     1.4730 Validation Accuracy: 0.514400\n",
      "Epoch 10, CIFAR-10 Batch 2:  Loss:     1.3109 Validation Accuracy: 0.494000\n",
      "Epoch 10, CIFAR-10 Batch 3:  Loss:     1.0759 Validation Accuracy: 0.500800\n",
      "Epoch 10, CIFAR-10 Batch 4:  Loss:     1.2291 Validation Accuracy: 0.520600\n",
      "Epoch 10, CIFAR-10 Batch 5:  Loss:     1.3493 Validation Accuracy: 0.512000\n",
      "Epoch 11, CIFAR-10 Batch 1:  Loss:     1.4650 Validation Accuracy: 0.514600\n",
      "Epoch 11, CIFAR-10 Batch 2:  Loss:     1.2387 Validation Accuracy: 0.514400\n",
      "Epoch 11, CIFAR-10 Batch 3:  Loss:     0.9822 Validation Accuracy: 0.517200\n",
      "Epoch 11, CIFAR-10 Batch 4:  Loss:     1.1926 Validation Accuracy: 0.506400\n",
      "Epoch 11, CIFAR-10 Batch 5:  Loss:     1.2664 Validation Accuracy: 0.521200\n",
      "Epoch 12, CIFAR-10 Batch 1:  Loss:     1.3994 Validation Accuracy: 0.527400\n",
      "Epoch 12, CIFAR-10 Batch 2:  Loss:     1.1723 Validation Accuracy: 0.517800\n",
      "Epoch 12, CIFAR-10 Batch 3:  Loss:     0.9542 Validation Accuracy: 0.525000\n",
      "Epoch 12, CIFAR-10 Batch 4:  Loss:     1.1815 Validation Accuracy: 0.522000\n",
      "Epoch 12, CIFAR-10 Batch 5:  Loss:     1.2423 Validation Accuracy: 0.525200\n",
      "Epoch 13, CIFAR-10 Batch 1:  Loss:     1.3580 Validation Accuracy: 0.525200\n",
      "Epoch 13, CIFAR-10 Batch 2:  Loss:     1.1422 Validation Accuracy: 0.524800\n",
      "Epoch 13, CIFAR-10 Batch 3:  Loss:     0.9476 Validation Accuracy: 0.518000\n",
      "Epoch 13, CIFAR-10 Batch 4:  Loss:     1.1558 Validation Accuracy: 0.520800\n",
      "Epoch 13, CIFAR-10 Batch 5:  Loss:     1.1674 Validation Accuracy: 0.538600\n",
      "Epoch 14, CIFAR-10 Batch 1:  Loss:     1.3681 Validation Accuracy: 0.531600\n",
      "Epoch 14, CIFAR-10 Batch 2:  Loss:     1.1597 Validation Accuracy: 0.520800\n",
      "Epoch 14, CIFAR-10 Batch 3:  Loss:     0.9119 Validation Accuracy: 0.536000\n",
      "Epoch 14, CIFAR-10 Batch 4:  Loss:     1.1649 Validation Accuracy: 0.523800\n",
      "Epoch 14, CIFAR-10 Batch 5:  Loss:     1.1248 Validation Accuracy: 0.539000\n",
      "Epoch 15, CIFAR-10 Batch 1:  Loss:     1.3376 Validation Accuracy: 0.541600\n",
      "Epoch 15, CIFAR-10 Batch 2:  Loss:     1.0825 Validation Accuracy: 0.542000\n",
      "Epoch 15, CIFAR-10 Batch 3:  Loss:     0.8847 Validation Accuracy: 0.537800\n",
      "Epoch 15, CIFAR-10 Batch 4:  Loss:     1.0816 Validation Accuracy: 0.537200\n",
      "Epoch 15, CIFAR-10 Batch 5:  Loss:     1.1011 Validation Accuracy: 0.537800\n",
      "Epoch 16, CIFAR-10 Batch 1:  Loss:     1.2866 Validation Accuracy: 0.547000\n",
      "Epoch 16, CIFAR-10 Batch 2:  Loss:     1.0645 Validation Accuracy: 0.537800\n",
      "Epoch 16, CIFAR-10 Batch 3:  Loss:     0.8428 Validation Accuracy: 0.546400\n",
      "Epoch 16, CIFAR-10 Batch 4:  Loss:     1.1067 Validation Accuracy: 0.531200\n",
      "Epoch 16, CIFAR-10 Batch 5:  Loss:     1.0815 Validation Accuracy: 0.545000\n",
      "Epoch 17, CIFAR-10 Batch 1:  Loss:     1.2300 Validation Accuracy: 0.550200\n",
      "Epoch 17, CIFAR-10 Batch 2:  Loss:     1.0243 Validation Accuracy: 0.543400\n",
      "Epoch 17, CIFAR-10 Batch 3:  Loss:     0.8268 Validation Accuracy: 0.547200\n",
      "Epoch 17, CIFAR-10 Batch 4:  Loss:     1.0618 Validation Accuracy: 0.531000\n",
      "Epoch 17, CIFAR-10 Batch 5:  Loss:     1.0241 Validation Accuracy: 0.557600\n",
      "Epoch 18, CIFAR-10 Batch 1:  Loss:     1.2026 Validation Accuracy: 0.558200\n",
      "Epoch 18, CIFAR-10 Batch 2:  Loss:     1.0057 Validation Accuracy: 0.544600\n",
      "Epoch 18, CIFAR-10 Batch 3:  Loss:     0.8118 Validation Accuracy: 0.553400\n",
      "Epoch 18, CIFAR-10 Batch 4:  Loss:     1.0579 Validation Accuracy: 0.544400\n",
      "Epoch 18, CIFAR-10 Batch 5:  Loss:     0.9847 Validation Accuracy: 0.556200\n",
      "Epoch 19, CIFAR-10 Batch 1:  Loss:     1.1607 Validation Accuracy: 0.553800\n",
      "Epoch 19, CIFAR-10 Batch 2:  Loss:     0.9693 Validation Accuracy: 0.552000\n",
      "Epoch 19, CIFAR-10 Batch 3:  Loss:     0.8107 Validation Accuracy: 0.559800\n",
      "Epoch 19, CIFAR-10 Batch 4:  Loss:     1.0211 Validation Accuracy: 0.549000\n",
      "Epoch 19, CIFAR-10 Batch 5:  Loss:     0.9794 Validation Accuracy: 0.562000\n",
      "Epoch 20, CIFAR-10 Batch 1:  Loss:     1.1182 Validation Accuracy: 0.556600\n",
      "Epoch 20, CIFAR-10 Batch 2:  Loss:     0.9513 Validation Accuracy: 0.560200\n",
      "Epoch 20, CIFAR-10 Batch 3:  Loss:     0.7700 Validation Accuracy: 0.564000\n",
      "Epoch 20, CIFAR-10 Batch 4:  Loss:     0.9809 Validation Accuracy: 0.555800\n",
      "Epoch 20, CIFAR-10 Batch 5:  Loss:     0.9501 Validation Accuracy: 0.562200\n",
      "Epoch 21, CIFAR-10 Batch 1:  Loss:     1.1102 Validation Accuracy: 0.564400\n",
      "Epoch 21, CIFAR-10 Batch 2:  Loss:     0.9365 Validation Accuracy: 0.558400\n",
      "Epoch 21, CIFAR-10 Batch 3:  Loss:     0.7529 Validation Accuracy: 0.569000\n",
      "Epoch 21, CIFAR-10 Batch 4:  Loss:     0.9573 Validation Accuracy: 0.564600\n",
      "Epoch 21, CIFAR-10 Batch 5:  Loss:     0.9232 Validation Accuracy: 0.568200\n",
      "Epoch 22, CIFAR-10 Batch 1:  Loss:     1.0925 Validation Accuracy: 0.574800\n",
      "Epoch 22, CIFAR-10 Batch 2:  Loss:     0.9181 Validation Accuracy: 0.561800\n",
      "Epoch 22, CIFAR-10 Batch 3:  Loss:     0.7454 Validation Accuracy: 0.570000\n",
      "Epoch 22, CIFAR-10 Batch 4:  Loss:     0.9330 Validation Accuracy: 0.571200\n",
      "Epoch 22, CIFAR-10 Batch 5:  Loss:     0.9104 Validation Accuracy: 0.569600\n",
      "Epoch 23, CIFAR-10 Batch 1:  Loss:     1.0652 Validation Accuracy: 0.569800\n",
      "Epoch 23, CIFAR-10 Batch 2:  Loss:     0.8926 Validation Accuracy: 0.565200\n",
      "Epoch 23, CIFAR-10 Batch 3:  Loss:     0.7243 Validation Accuracy: 0.574600\n",
      "Epoch 23, CIFAR-10 Batch 4:  Loss:     0.9017 Validation Accuracy: 0.567000\n",
      "Epoch 23, CIFAR-10 Batch 5:  Loss:     0.8426 Validation Accuracy: 0.573800\n",
      "Epoch 24, CIFAR-10 Batch 1:  Loss:     1.0420 Validation Accuracy: 0.568200\n",
      "Epoch 24, CIFAR-10 Batch 2:  Loss:     0.9271 Validation Accuracy: 0.563000\n",
      "Epoch 24, CIFAR-10 Batch 3:  Loss:     0.7125 Validation Accuracy: 0.571400\n",
      "Epoch 24, CIFAR-10 Batch 4:  Loss:     0.8912 Validation Accuracy: 0.576200\n",
      "Epoch 24, CIFAR-10 Batch 5:  Loss:     0.8405 Validation Accuracy: 0.576200\n",
      "Epoch 25, CIFAR-10 Batch 1:  Loss:     0.9925 Validation Accuracy: 0.578400\n",
      "Epoch 25, CIFAR-10 Batch 2:  Loss:     0.8855 Validation Accuracy: 0.571800\n",
      "Epoch 25, CIFAR-10 Batch 3:  Loss:     0.7028 Validation Accuracy: 0.578800\n",
      "Epoch 25, CIFAR-10 Batch 4:  Loss:     0.8439 Validation Accuracy: 0.578400\n",
      "Epoch 25, CIFAR-10 Batch 5:  Loss:     0.8402 Validation Accuracy: 0.578400\n",
      "Epoch 26, CIFAR-10 Batch 1:  Loss:     0.9354 Validation Accuracy: 0.581800\n",
      "Epoch 26, CIFAR-10 Batch 2:  Loss:     0.8491 Validation Accuracy: 0.575600\n",
      "Epoch 26, CIFAR-10 Batch 3:  Loss:     0.6563 Validation Accuracy: 0.581000\n",
      "Epoch 26, CIFAR-10 Batch 4:  Loss:     0.8148 Validation Accuracy: 0.572600\n",
      "Epoch 26, CIFAR-10 Batch 5:  Loss:     0.7919 Validation Accuracy: 0.581000\n",
      "Epoch 27, CIFAR-10 Batch 1:  Loss:     0.9176 Validation Accuracy: 0.583400\n",
      "Epoch 27, CIFAR-10 Batch 2:  Loss:     0.7906 Validation Accuracy: 0.573600\n",
      "Epoch 27, CIFAR-10 Batch 3:  Loss:     0.6758 Validation Accuracy: 0.586400\n",
      "Epoch 27, CIFAR-10 Batch 4:  Loss:     0.8537 Validation Accuracy: 0.574200\n",
      "Epoch 27, CIFAR-10 Batch 5:  Loss:     0.7736 Validation Accuracy: 0.581800\n",
      "Epoch 28, CIFAR-10 Batch 1:  Loss:     0.8794 Validation Accuracy: 0.574000\n",
      "Epoch 28, CIFAR-10 Batch 2:  Loss:     0.7885 Validation Accuracy: 0.579000\n",
      "Epoch 28, CIFAR-10 Batch 3:  Loss:     0.6537 Validation Accuracy: 0.589800\n",
      "Epoch 28, CIFAR-10 Batch 4:  Loss:     0.7990 Validation Accuracy: 0.587800\n",
      "Epoch 28, CIFAR-10 Batch 5:  Loss:     0.7621 Validation Accuracy: 0.584400\n",
      "Epoch 29, CIFAR-10 Batch 1:  Loss:     0.8669 Validation Accuracy: 0.580400\n",
      "Epoch 29, CIFAR-10 Batch 2:  Loss:     0.7960 Validation Accuracy: 0.583200\n",
      "Epoch 29, CIFAR-10 Batch 3:  Loss:     0.6455 Validation Accuracy: 0.581600\n",
      "Epoch 29, CIFAR-10 Batch 4:  Loss:     0.7954 Validation Accuracy: 0.589000\n",
      "Epoch 29, CIFAR-10 Batch 5:  Loss:     0.7427 Validation Accuracy: 0.583800\n",
      "Epoch 30, CIFAR-10 Batch 1:  Loss:     0.8683 Validation Accuracy: 0.577400\n",
      "Epoch 30, CIFAR-10 Batch 2:  Loss:     0.7624 Validation Accuracy: 0.580800\n",
      "Epoch 30, CIFAR-10 Batch 3:  Loss:     0.6431 Validation Accuracy: 0.586800\n",
      "Epoch 30, CIFAR-10 Batch 4:  Loss:     0.7634 Validation Accuracy: 0.587600\n",
      "Epoch 30, CIFAR-10 Batch 5:  Loss:     0.7173 Validation Accuracy: 0.585600\n",
      "Epoch 31, CIFAR-10 Batch 1:  Loss:     0.7955 Validation Accuracy: 0.587800\n",
      "Epoch 31, CIFAR-10 Batch 2:  Loss:     0.7352 Validation Accuracy: 0.589400\n",
      "Epoch 31, CIFAR-10 Batch 3:  Loss:     0.6246 Validation Accuracy: 0.578000\n",
      "Epoch 31, CIFAR-10 Batch 4:  Loss:     0.7524 Validation Accuracy: 0.581400\n",
      "Epoch 31, CIFAR-10 Batch 5:  Loss:     0.6909 Validation Accuracy: 0.586000\n",
      "Epoch 32, CIFAR-10 Batch 1:  Loss:     0.8130 Validation Accuracy: 0.588000\n",
      "Epoch 32, CIFAR-10 Batch 2:  Loss:     0.7512 Validation Accuracy: 0.582200\n",
      "Epoch 32, CIFAR-10 Batch 3:  Loss:     0.6028 Validation Accuracy: 0.582200\n",
      "Epoch 32, CIFAR-10 Batch 4:  Loss:     0.7397 Validation Accuracy: 0.589800\n",
      "Epoch 32, CIFAR-10 Batch 5:  Loss:     0.6875 Validation Accuracy: 0.593000\n",
      "Epoch 33, CIFAR-10 Batch 1:  Loss:     0.7927 Validation Accuracy: 0.590800\n",
      "Epoch 33, CIFAR-10 Batch 2:  Loss:     0.7344 Validation Accuracy: 0.593200\n",
      "Epoch 33, CIFAR-10 Batch 3:  Loss:     0.5756 Validation Accuracy: 0.589400\n",
      "Epoch 33, CIFAR-10 Batch 4:  Loss:     0.7281 Validation Accuracy: 0.594200\n",
      "Epoch 33, CIFAR-10 Batch 5:  Loss:     0.6751 Validation Accuracy: 0.591000\n",
      "Epoch 34, CIFAR-10 Batch 1:  Loss:     0.7775 Validation Accuracy: 0.590800\n",
      "Epoch 34, CIFAR-10 Batch 2:  Loss:     0.6748 Validation Accuracy: 0.587800\n",
      "Epoch 34, CIFAR-10 Batch 3:  Loss:     0.5745 Validation Accuracy: 0.588200\n",
      "Epoch 34, CIFAR-10 Batch 4:  Loss:     0.6991 Validation Accuracy: 0.589400\n",
      "Epoch 34, CIFAR-10 Batch 5:  Loss:     0.6296 Validation Accuracy: 0.589400\n",
      "Epoch 35, CIFAR-10 Batch 1:  Loss:     0.7699 Validation Accuracy: 0.589400\n",
      "Epoch 35, CIFAR-10 Batch 2:  Loss:     0.6650 Validation Accuracy: 0.600400\n",
      "Epoch 35, CIFAR-10 Batch 3:  Loss:     0.5681 Validation Accuracy: 0.589400\n",
      "Epoch 35, CIFAR-10 Batch 4:  Loss:     0.6956 Validation Accuracy: 0.592200\n",
      "Epoch 35, CIFAR-10 Batch 5:  Loss:     0.6630 Validation Accuracy: 0.588600\n",
      "Epoch 36, CIFAR-10 Batch 1:  Loss:     0.7771 Validation Accuracy: 0.589600\n",
      "Epoch 36, CIFAR-10 Batch 2:  Loss:     0.6460 Validation Accuracy: 0.602600\n",
      "Epoch 36, CIFAR-10 Batch 3:  Loss:     0.5352 Validation Accuracy: 0.594600\n",
      "Epoch 36, CIFAR-10 Batch 4:  Loss:     0.6984 Validation Accuracy: 0.596600\n",
      "Epoch 36, CIFAR-10 Batch 5:  Loss:     0.6053 Validation Accuracy: 0.586800\n",
      "Epoch 37, CIFAR-10 Batch 1:  Loss:     0.7282 Validation Accuracy: 0.590600\n",
      "Epoch 37, CIFAR-10 Batch 2:  Loss:     0.6522 Validation Accuracy: 0.598600\n",
      "Epoch 37, CIFAR-10 Batch 3:  Loss:     0.5487 Validation Accuracy: 0.582200\n",
      "Epoch 37, CIFAR-10 Batch 4:  Loss:     0.6569 Validation Accuracy: 0.595000\n",
      "Epoch 37, CIFAR-10 Batch 5:  Loss:     0.6311 Validation Accuracy: 0.587600\n",
      "Epoch 38, CIFAR-10 Batch 1:  Loss:     0.7046 Validation Accuracy: 0.580400\n",
      "Epoch 38, CIFAR-10 Batch 2:  Loss:     0.6293 Validation Accuracy: 0.593600\n",
      "Epoch 38, CIFAR-10 Batch 3:  Loss:     0.5500 Validation Accuracy: 0.583800\n",
      "Epoch 38, CIFAR-10 Batch 4:  Loss:     0.6482 Validation Accuracy: 0.594600\n",
      "Epoch 38, CIFAR-10 Batch 5:  Loss:     0.5755 Validation Accuracy: 0.596800\n",
      "Epoch 39, CIFAR-10 Batch 1:  Loss:     0.6856 Validation Accuracy: 0.585800\n",
      "Epoch 39, CIFAR-10 Batch 2:  Loss:     0.5988 Validation Accuracy: 0.601000\n",
      "Epoch 39, CIFAR-10 Batch 3:  Loss:     0.5339 Validation Accuracy: 0.586200\n",
      "Epoch 39, CIFAR-10 Batch 4:  Loss:     0.6283 Validation Accuracy: 0.593400\n",
      "Epoch 39, CIFAR-10 Batch 5:  Loss:     0.6010 Validation Accuracy: 0.589000\n",
      "Epoch 40, CIFAR-10 Batch 1:  Loss:     0.6765 Validation Accuracy: 0.582800\n",
      "Epoch 40, CIFAR-10 Batch 2:  Loss:     0.5753 Validation Accuracy: 0.597400\n",
      "Epoch 40, CIFAR-10 Batch 3:  Loss:     0.5232 Validation Accuracy: 0.593000\n",
      "Epoch 40, CIFAR-10 Batch 4:  Loss:     0.6216 Validation Accuracy: 0.592400\n",
      "Epoch 40, CIFAR-10 Batch 5:  Loss:     0.5743 Validation Accuracy: 0.598200\n",
      "Epoch 41, CIFAR-10 Batch 1:  Loss:     0.6497 Validation Accuracy: 0.589800\n",
      "Epoch 41, CIFAR-10 Batch 2:  Loss:     0.6059 Validation Accuracy: 0.597200\n",
      "Epoch 41, CIFAR-10 Batch 3:  Loss:     0.5192 Validation Accuracy: 0.588400\n",
      "Epoch 41, CIFAR-10 Batch 4:  Loss:     0.6323 Validation Accuracy: 0.598400\n",
      "Epoch 41, CIFAR-10 Batch 5:  Loss:     0.5605 Validation Accuracy: 0.598600\n",
      "Epoch 42, CIFAR-10 Batch 1:  Loss:     0.6916 Validation Accuracy: 0.590000\n",
      "Epoch 42, CIFAR-10 Batch 2:  Loss:     0.5625 Validation Accuracy: 0.598400\n",
      "Epoch 42, CIFAR-10 Batch 3:  Loss:     0.4974 Validation Accuracy: 0.598600\n",
      "Epoch 42, CIFAR-10 Batch 4:  Loss:     0.6368 Validation Accuracy: 0.602200\n",
      "Epoch 42, CIFAR-10 Batch 5:  Loss:     0.5691 Validation Accuracy: 0.593800\n",
      "Epoch 43, CIFAR-10 Batch 1:  Loss:     0.6446 Validation Accuracy: 0.587800\n",
      "Epoch 43, CIFAR-10 Batch 2:  Loss:     0.5587 Validation Accuracy: 0.598400\n",
      "Epoch 43, CIFAR-10 Batch 3:  Loss:     0.5075 Validation Accuracy: 0.590000\n",
      "Epoch 43, CIFAR-10 Batch 4:  Loss:     0.5956 Validation Accuracy: 0.594400\n",
      "Epoch 43, CIFAR-10 Batch 5:  Loss:     0.5381 Validation Accuracy: 0.595600\n",
      "Epoch 44, CIFAR-10 Batch 1:  Loss:     0.6404 Validation Accuracy: 0.586600\n",
      "Epoch 44, CIFAR-10 Batch 2:  Loss:     0.5460 Validation Accuracy: 0.603600\n",
      "Epoch 44, CIFAR-10 Batch 3:  Loss:     0.4705 Validation Accuracy: 0.595200\n",
      "Epoch 44, CIFAR-10 Batch 4:  Loss:     0.5841 Validation Accuracy: 0.603200\n",
      "Epoch 44, CIFAR-10 Batch 5:  Loss:     0.5139 Validation Accuracy: 0.596600\n",
      "Epoch 45, CIFAR-10 Batch 1:  Loss:     0.6351 Validation Accuracy: 0.585400\n",
      "Epoch 45, CIFAR-10 Batch 2:  Loss:     0.5254 Validation Accuracy: 0.613400\n",
      "Epoch 45, CIFAR-10 Batch 3:  Loss:     0.4820 Validation Accuracy: 0.600600\n",
      "Epoch 45, CIFAR-10 Batch 4:  Loss:     0.6184 Validation Accuracy: 0.596000\n",
      "Epoch 45, CIFAR-10 Batch 5:  Loss:     0.5011 Validation Accuracy: 0.598800\n",
      "Epoch 46, CIFAR-10 Batch 1:  Loss:     0.5928 Validation Accuracy: 0.590200\n",
      "Epoch 46, CIFAR-10 Batch 2:  Loss:     0.5264 Validation Accuracy: 0.600000\n",
      "Epoch 46, CIFAR-10 Batch 3:  Loss:     0.4871 Validation Accuracy: 0.582600\n",
      "Epoch 46, CIFAR-10 Batch 4:  Loss:     0.5608 Validation Accuracy: 0.604200\n",
      "Epoch 46, CIFAR-10 Batch 5:  Loss:     0.5068 Validation Accuracy: 0.601200\n",
      "Epoch 47, CIFAR-10 Batch 1:  Loss:     0.5746 Validation Accuracy: 0.588600\n",
      "Epoch 47, CIFAR-10 Batch 2:  Loss:     0.5214 Validation Accuracy: 0.603400\n",
      "Epoch 47, CIFAR-10 Batch 3:  Loss:     0.4602 Validation Accuracy: 0.592600\n",
      "Epoch 47, CIFAR-10 Batch 4:  Loss:     0.5796 Validation Accuracy: 0.604800\n",
      "Epoch 47, CIFAR-10 Batch 5:  Loss:     0.5031 Validation Accuracy: 0.598400\n",
      "Epoch 48, CIFAR-10 Batch 1:  Loss:     0.5869 Validation Accuracy: 0.589600\n",
      "Epoch 48, CIFAR-10 Batch 2:  Loss:     0.4968 Validation Accuracy: 0.613000\n",
      "Epoch 48, CIFAR-10 Batch 3:  Loss:     0.4398 Validation Accuracy: 0.590200\n",
      "Epoch 48, CIFAR-10 Batch 4:  Loss:     0.5426 Validation Accuracy: 0.600800\n",
      "Epoch 48, CIFAR-10 Batch 5:  Loss:     0.4960 Validation Accuracy: 0.595800\n",
      "Epoch 49, CIFAR-10 Batch 1:  Loss:     0.5635 Validation Accuracy: 0.594600\n",
      "Epoch 49, CIFAR-10 Batch 2:  Loss:     0.4875 Validation Accuracy: 0.607600\n",
      "Epoch 49, CIFAR-10 Batch 3:  Loss:     0.4426 Validation Accuracy: 0.590200\n",
      "Epoch 49, CIFAR-10 Batch 4:  Loss:     0.5566 Validation Accuracy: 0.602400\n",
      "Epoch 49, CIFAR-10 Batch 5:  Loss:     0.4566 Validation Accuracy: 0.606600\n",
      "Epoch 50, CIFAR-10 Batch 1:  Loss:     0.5369 Validation Accuracy: 0.598200\n",
      "Epoch 50, CIFAR-10 Batch 2:  Loss:     0.4920 Validation Accuracy: 0.604200\n",
      "Epoch 50, CIFAR-10 Batch 3:  Loss:     0.4284 Validation Accuracy: 0.590200\n",
      "Epoch 50, CIFAR-10 Batch 4:  Loss:     0.5275 Validation Accuracy: 0.606800\n",
      "Epoch 50, CIFAR-10 Batch 5:  Loss:     0.4593 Validation Accuracy: 0.600600\n"
     ]
    }
   ],
   "source": [
    "\"\"\"\n",
    "DON'T MODIFY ANYTHING IN THIS CELL\n",
    "\"\"\"\n",
    "save_model_path = './image_classification'\n",
    "\n",
    "print('Training...')\n",
    "with tf.Session() as sess:\n",
    "    # Initializing the variables\n",
    "    sess.run(tf.global_variables_initializer())\n",
    "    \n",
    "    # Training cycle\n",
    "    for epoch in range(epochs):\n",
    "        # Loop over all batches\n",
    "        n_batches = 5\n",
    "        for batch_i in range(1, n_batches + 1):\n",
    "            for batch_features, batch_labels in helper.load_preprocess_training_batch(batch_i, batch_size):\n",
    "                train_neural_network(sess, optimizer, keep_probability, batch_features, batch_labels)\n",
    "            print('Epoch {:>2}, CIFAR-10 Batch {}:  '.format(epoch + 1, batch_i), end='')\n",
    "            print_stats(sess, batch_features, batch_labels, cost, accuracy)\n",
    "            \n",
    "    # Save Model\n",
    "    saver = tf.train.Saver()\n",
    "    save_path = saver.save(sess, save_model_path)"
   ]
  },
  {
   "cell_type": "markdown",
   "metadata": {},
   "source": [
    "# Checkpoint\n",
    "The model has been saved to disk.\n",
    "## Test Model\n",
    "Test your model against the test dataset.  This will be your final accuracy. You should have an accuracy greater than 50%. If you don't, keep tweaking the model architecture and parameters."
   ]
  },
  {
   "cell_type": "code",
   "execution_count": 36,
   "metadata": {
    "collapsed": false
   },
   "outputs": [
    {
     "name": "stdout",
     "output_type": "stream",
     "text": [
      "Testing Accuracy: 0.60322265625\n",
      "\n"
     ]
    },
    {
     "data": {
      "image/png": "[encoded data removed]",
      "text/plain": [
       "<matplotlib.figure.Figure at 0x2c615ae4b00>"
      ]
     },
     "metadata": {
      "image/png": {
       "height": 319,
       "width": 355
      }
     },
     "output_type": "display_data"
    }
   ],
   "source": [
    "\"\"\"\n",
    "DON'T MODIFY ANYTHING IN THIS CELL\n",
    "\"\"\"\n",
    "%matplotlib inline\n",
    "%config InlineBackend.figure_format = 'retina'\n",
    "\n",
    "import tensorflow as tf\n",
    "import pickle\n",
    "import helper\n",
    "import random\n",
    "\n",
    "# Set batch size if not already set\n",
    "try:\n",
    "    if batch_size:\n",
    "        pass\n",
    "except NameError:\n",
    "    batch_size = 64\n",
    "\n",
    "save_model_path = './image_classification'\n",
    "n_samples = 4\n",
    "top_n_predictions = 3\n",
    "\n",
    "def test_model():\n",
    "    \"\"\"\n",
    "    Test the saved model against the test dataset\n",
    "    \"\"\"\n",
    "\n",
    "    test_features, test_labels = pickle.load(open('preprocess_training.p', mode='rb'))\n",
    "    loaded_graph = tf.Graph()\n",
    "\n",
    "    with tf.Session(graph=loaded_graph) as sess:\n",
    "        # Load model\n",
    "        loader = tf.train.import_meta_graph(save_model_path + '.meta')\n",
    "        loader.restore(sess, save_model_path)\n",
    "\n",
    "        # Get Tensors from loaded model\n",
    "        loaded_x = loaded_graph.get_tensor_by_name('x:0')\n",
    "        loaded_y = loaded_graph.get_tensor_by_name('y:0')\n",
    "        loaded_keep_prob = loaded_graph.get_tensor_by_name('keep_prob:0')\n",
    "        loaded_logits = loaded_graph.get_tensor_by_name('logits:0')\n",
    "        loaded_acc = loaded_graph.get_tensor_by_name('accuracy:0')\n",
    "        \n",
    "        # Get accuracy in batches for memory limitations\n",
    "        test_batch_acc_total = 0\n",
    "        test_batch_count = 0\n",
    "        \n",
    "        for train_feature_batch, train_label_batch in helper.batch_features_labels(test_features, test_labels, batch_size):\n",
    "            test_batch_acc_total += sess.run(\n",
    "                loaded_acc,\n",
    "                feed_dict={loaded_x: train_feature_batch, loaded_y: train_label_batch, loaded_keep_prob: 1.0})\n",
    "            test_batch_count += 1\n",
    "\n",
    "        print('Testing Accuracy: {}\\n'.format(test_batch_acc_total/test_batch_count))\n",
    "\n",
    "        # Print Random Samples\n",
    "        random_test_features, random_test_labels = tuple(zip(*random.sample(list(zip(test_features, test_labels)), n_samples)))\n",
    "        random_test_predictions = sess.run(\n",
    "            tf.nn.top_k(tf.nn.softmax(loaded_logits), top_n_predictions),\n",
    "            feed_dict={loaded_x: random_test_features, loaded_y: random_test_labels, loaded_keep_prob: 1.0})\n",
    "        helper.display_image_predictions(random_test_features, random_test_labels, random_test_predictions)\n",
    "\n",
    "\n",
    "test_model()"
   ]
  },
  {
   "cell_type": "markdown",
   "metadata": {},
   "source": [
    "## Why 50-70% Accuracy?\n",
    "You might be wondering why you can't get an accuracy any higher. First things first, 50% isn't bad for a simple CNN.  Pure guessing would get you 10% accuracy. However, you might notice people are getting scores [well above 70%](http://rodrigob.github.io/are_we_there_yet/build/classification_datasets_results.html#43494641522d3130).  That's because we haven't taught you all there is to know about neural networks. We still need to cover a few more techniques.\n",
    "## Submitting This Project\n",
    "When submitting this project, make sure to run all the cells before saving the notebook.  Save the notebook file as \"dlnd_image_classification.ipynb\" and save it as a HTML file under \"File\" -> \"Download as\".  Include the \"helper.py\" and \"problem_unittests.py\" files in your submission."
   ]
  }
 ],
 "metadata": {
  "kernelspec": {
   "display_name": "Python [conda env:tensorflow]",
   "language": "python",
   "name": "conda-env-tensorflow-py"
  },
  "language_info": {
   "codemirror_mode": {
    "name": "ipython",
    "version": 3
   },
   "file_extension": ".py",
   "mimetype": "text/x-python",
   "name": "python",
   "nbconvert_exporter": "python",
   "pygments_lexer": "ipython3",
   "version": "3.5.3"
  }
 },
 "nbformat": 4,
 "nbformat_minor": 0
}
